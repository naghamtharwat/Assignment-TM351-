{
 "cells": [
  {
   "cell_type": "markdown",
   "id": "dc73a9d9",
   "metadata": {},
   "source": [
    "## Name: Nagham Tharwat Ramadan \n",
    "## ID: 21510350\n",
    "## Course Code: TM351\n",
    "## TMA "
   ]
  },
  {
   "cell_type": "code",
   "execution_count": 1,
   "id": "5d1570c5",
   "metadata": {},
   "outputs": [
    {
     "data": {
      "text/plain": [
       "'Nagham'"
      ]
     },
     "execution_count": 1,
     "metadata": {},
     "output_type": "execute_result"
    }
   ],
   "source": [
    "name = 'Nagham'\n",
    "name"
   ]
  },
  {
   "cell_type": "code",
   "execution_count": 2,
   "id": "0a4757f9",
   "metadata": {},
   "outputs": [
    {
     "name": "stdout",
     "output_type": "stream",
     "text": [
      "[2002, 2009, 2016, 2023, 2037, 2044, 2051, 2058, 2072, 2079, 2086, 2093, 2107, 2114, 2121, 2128, 2142, 2149, 2156, 2163, 2177, 2184, 2191, 2198, 2212, 2219, 2226, 2233, 2247, 2254, 2261, 2268, 2282, 2289, 2296, 2303, 2317, 2324, 2331, 2338, 2352, 2359, 2366, 2373, 2387, 2394, 2401, 2408, 2422, 2429, 2436, 2443, 2457, 2464, 2471, 2478, 2492, 2499, 2506, 2513, 2527, 2534, 2541, 2548, 2562, 2569, 2576, 2583, 2597, 2604, 2611, 2618, 2632, 2639, 2646, 2653, 2667, 2674, 2681, 2688, 2702, 2709, 2716, 2723, 2737, 2744, 2751, 2758, 2772, 2779, 2786, 2793, 2807, 2814, 2821, 2828, 2842, 2849, 2856, 2863, 2877, 2884, 2891, 2898, 2912, 2919, 2926, 2933, 2947, 2954, 2961, 2968, 2982, 2989, 2996, 3003, 3017, 3024, 3031, 3038, 3052, 3059, 3066, 3073, 3087, 3094, 3101, 3108, 3122, 3129, 3136, 3143, 3157, 3164, 3171, 3178, 3192, 3199]\n"
     ]
    }
   ],
   "source": [
    "number1 = 2000\n",
    "number2 = 3200\n",
    "\n",
    "def main_function(number1, number2):        # define the function\n",
    "    output = []                             # put the output in list\n",
    "    for i in range(2000, 3200):             # start range method\n",
    "        if (i % 7 == 0) and (i % 5 != 0):   # use if condetion to find all numbers which are divisible by 7 but are not a multiple of 5\n",
    "            output.append(i)                # add i in the output list\n",
    "    return output\n",
    "\n",
    "print(main_function(number1, number2))     # print the output that end of function"
   ]
  },
  {
   "cell_type": "code",
   "execution_count": 3,
   "id": "398df014",
   "metadata": {},
   "outputs": [
    {
     "name": "stdout",
     "output_type": "stream",
     "text": [
      "6\n",
      "720\n"
     ]
    }
   ],
   "source": [
    "# Get the number from the user for which we want to calculate the factorial\n",
    "factorial_num = int(input())        \n",
    "\n",
    "# Initialize the result variable to 1. This will hold our final factorial result.\n",
    "result = 1\n",
    "\n",
    "# Loop from 1 to the number entered by the user\n",
    "for i in range(1, factorial_num+1):\n",
    "    # In each iteration, multiply the current result by the current number\n",
    "    result = result * i\n",
    "\n",
    "# After the loop finishes, print the final result\n",
    "print(result)"
   ]
  },
  {
   "cell_type": "code",
   "execution_count": 4,
   "id": "fc85839c",
   "metadata": {},
   "outputs": [
    {
     "name": "stdout",
     "output_type": "stream",
     "text": [
      "6\n",
      "{1: 1, 2: 4, 3: 9, 4: 16, 5: 25, 6: 36}\n"
     ]
    }
   ],
   "source": [
    "# Get the number from the user for which we want to create the dictionary\n",
    "n = int(input())\n",
    "\n",
    "# Initialize an empty dictionary\n",
    "mydict = {}\n",
    "\n",
    "# Loop from 1 to the number entered by the user\n",
    "for i in range (1, n+1):\n",
    "    # For each number, add an entry to the dictionary with the number as the key and its square as the value\n",
    "    mydict[i] = i*i\n",
    "\n",
    "# After the loop finishes, print the final dictionary\n",
    "print(mydict)"
   ]
  },
  {
   "cell_type": "code",
   "execution_count": 5,
   "id": "140372ea",
   "metadata": {},
   "outputs": [
    {
     "name": "stdout",
     "output_type": "stream",
     "text": [
      "Original array elements:\n",
      "[[0 1]\n",
      " [2 3]\n",
      " [4 5]]\n",
      "Array to list:\n",
      "[[0, 1], [2, 3], [4, 5]]\n"
     ]
    }
   ],
   "source": [
    "# Import the numpy library, which allows us to work with arrays\n",
    "import numpy as np\n",
    "\n",
    "# Create an array of 6 elements, ranging from 0 to 5\n",
    "arrays = np.arange(6)\n",
    "\n",
    "# Reshape the array into a 2D array with 3 rows and 2 columns\n",
    "arrays = arrays.reshape(3, 2)\n",
    "\n",
    "# Print the original array\n",
    "print(\"Original array elements:\")\n",
    "print(arrays)\n",
    "\n",
    "# Convert the numpy array to a Python list and print it\n",
    "print(\"Array to list:\")\n",
    "print(arrays.tolist())\n"
   ]
  },
  {
   "cell_type": "code",
   "execution_count": 6,
   "id": "87d72f4d",
   "metadata": {},
   "outputs": [
    {
     "name": "stdout",
     "output_type": "stream",
     "text": [
      "THANK YOU\n"
     ]
    }
   ],
   "source": [
    "print(\"THANK YOU\")"
   ]
  }
 ],
 "metadata": {
  "kernelspec": {
   "display_name": "Python 3 (ipykernel)",
   "language": "python",
   "name": "python3"
  },
  "language_info": {
   "codemirror_mode": {
    "name": "ipython",
    "version": 3
   },
   "file_extension": ".py",
   "mimetype": "text/x-python",
   "name": "python",
   "nbconvert_exporter": "python",
   "pygments_lexer": "ipython3",
   "version": "3.9.12"
  },
  "varInspector": {
   "cols": {
    "lenName": 16,
    "lenType": 16,
    "lenVar": 40
   },
   "kernels_config": {
    "python": {
     "delete_cmd_postfix": "",
     "delete_cmd_prefix": "del ",
     "library": "var_list.py",
     "varRefreshCmd": "print(var_dic_list())"
    },
    "r": {
     "delete_cmd_postfix": ") ",
     "delete_cmd_prefix": "rm(",
     "library": "var_list.r",
     "varRefreshCmd": "cat(var_dic_list()) "
    }
   },
   "types_to_exclude": [
    "module",
    "function",
    "builtin_function_or_method",
    "instance",
    "_Feature"
   ],
   "window_display": false
  }
 },
 "nbformat": 4,
 "nbformat_minor": 5
}
